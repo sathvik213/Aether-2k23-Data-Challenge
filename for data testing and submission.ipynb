{
 "cells": [
  {
   "cell_type": "code",
   "execution_count": 1,
   "id": "e653b79a",
   "metadata": {},
   "outputs": [],
   "source": [
    "import pickle\n",
    "\n",
    "with open('mango.pkl', 'rb') as f:\n",
    "    mango_pickle = pickle.load(f)\n"
   ]
  },
  {
   "cell_type": "code",
   "execution_count": 2,
   "id": "ce2ecdb4",
   "metadata": {},
   "outputs": [
    {
     "data": {
      "text/html": [
       "<div>\n",
       "<style scoped>\n",
       "    .dataframe tbody tr th:only-of-type {\n",
       "        vertical-align: middle;\n",
       "    }\n",
       "\n",
       "    .dataframe tbody tr th {\n",
       "        vertical-align: top;\n",
       "    }\n",
       "\n",
       "    .dataframe thead th {\n",
       "        text-align: right;\n",
       "    }\n",
       "</style>\n",
       "<table border=\"1\" class=\"dataframe\">\n",
       "  <thead>\n",
       "    <tr style=\"text-align: right;\">\n",
       "      <th></th>\n",
       "      <th>Unnamed: 0</th>\n",
       "      <th>x</th>\n",
       "      <th>y</th>\n",
       "      <th>z</th>\n",
       "    </tr>\n",
       "  </thead>\n",
       "  <tbody>\n",
       "    <tr>\n",
       "      <th>0</th>\n",
       "      <td>0</td>\n",
       "      <td>-1.750080e-03</td>\n",
       "      <td>-7.325240e-03</td>\n",
       "      <td>-7.381023</td>\n",
       "    </tr>\n",
       "    <tr>\n",
       "      <th>1</th>\n",
       "      <td>1</td>\n",
       "      <td>-3.499287e-03</td>\n",
       "      <td>-1.464683e-02</td>\n",
       "      <td>-2.077100</td>\n",
       "    </tr>\n",
       "    <tr>\n",
       "      <th>2</th>\n",
       "      <td>2</td>\n",
       "      <td>-6.995087e-03</td>\n",
       "      <td>-2.927906e-02</td>\n",
       "      <td>2.545311</td>\n",
       "    </tr>\n",
       "    <tr>\n",
       "      <th>3</th>\n",
       "      <td>3</td>\n",
       "      <td>-1.048391e-02</td>\n",
       "      <td>-4.388210e-02</td>\n",
       "      <td>-1.957730</td>\n",
       "    </tr>\n",
       "    <tr>\n",
       "      <th>4</th>\n",
       "      <td>4</td>\n",
       "      <td>-1.396229e-02</td>\n",
       "      <td>-5.844140e-02</td>\n",
       "      <td>0.390971</td>\n",
       "    </tr>\n",
       "    <tr>\n",
       "      <th>...</th>\n",
       "      <td>...</td>\n",
       "      <td>...</td>\n",
       "      <td>...</td>\n",
       "      <td>...</td>\n",
       "    </tr>\n",
       "    <tr>\n",
       "      <th>1999995</th>\n",
       "      <td>1999995</td>\n",
       "      <td>-3.765876e-13</td>\n",
       "      <td>-9.503509e-14</td>\n",
       "      <td>9.444445</td>\n",
       "    </tr>\n",
       "    <tr>\n",
       "      <th>1999996</th>\n",
       "      <td>1999996</td>\n",
       "      <td>1.129763e-12</td>\n",
       "      <td>1.891820e-13</td>\n",
       "      <td>12.721222</td>\n",
       "    </tr>\n",
       "    <tr>\n",
       "      <th>1999997</th>\n",
       "      <td>1999997</td>\n",
       "      <td>3.765876e-13</td>\n",
       "      <td>1.891820e-13</td>\n",
       "      <td>-9.539571</td>\n",
       "    </tr>\n",
       "    <tr>\n",
       "      <th>1999998</th>\n",
       "      <td>1999998</td>\n",
       "      <td>2.202682e-13</td>\n",
       "      <td>6.572520e-14</td>\n",
       "      <td>-19.803844</td>\n",
       "    </tr>\n",
       "    <tr>\n",
       "      <th>1999999</th>\n",
       "      <td>1999999</td>\n",
       "      <td>4.418688e-13</td>\n",
       "      <td>-5.891584e-14</td>\n",
       "      <td>-16.154872</td>\n",
       "    </tr>\n",
       "  </tbody>\n",
       "</table>\n",
       "<p>2000000 rows × 4 columns</p>\n",
       "</div>"
      ],
      "text/plain": [
       "         Unnamed: 0             x             y          z\n",
       "0                 0 -1.750080e-03 -7.325240e-03  -7.381023\n",
       "1                 1 -3.499287e-03 -1.464683e-02  -2.077100\n",
       "2                 2 -6.995087e-03 -2.927906e-02   2.545311\n",
       "3                 3 -1.048391e-02 -4.388210e-02  -1.957730\n",
       "4                 4 -1.396229e-02 -5.844140e-02   0.390971\n",
       "...             ...           ...           ...        ...\n",
       "1999995     1999995 -3.765876e-13 -9.503509e-14   9.444445\n",
       "1999996     1999996  1.129763e-12  1.891820e-13  12.721222\n",
       "1999997     1999997  3.765876e-13  1.891820e-13  -9.539571\n",
       "1999998     1999998  2.202682e-13  6.572520e-14 -19.803844\n",
       "1999999     1999999  4.418688e-13 -5.891584e-14 -16.154872\n",
       "\n",
       "[2000000 rows x 4 columns]"
      ]
     },
     "execution_count": 2,
     "metadata": {},
     "output_type": "execute_result"
    }
   ],
   "source": [
    "import pandas as pd\n",
    "data=pd.read_csv('grand_finale.csv')\n",
    "data\n",
    "#data.to_csv('grand_finale.csv')"
   ]
  },
  {
   "cell_type": "code",
   "execution_count": 3,
   "id": "293b9e6d",
   "metadata": {},
   "outputs": [
    {
     "data": {
      "text/html": [
       "<div>\n",
       "<style scoped>\n",
       "    .dataframe tbody tr th:only-of-type {\n",
       "        vertical-align: middle;\n",
       "    }\n",
       "\n",
       "    .dataframe tbody tr th {\n",
       "        vertical-align: top;\n",
       "    }\n",
       "\n",
       "    .dataframe thead th {\n",
       "        text-align: right;\n",
       "    }\n",
       "</style>\n",
       "<table border=\"1\" class=\"dataframe\">\n",
       "  <thead>\n",
       "    <tr style=\"text-align: right;\">\n",
       "      <th></th>\n",
       "      <th>Unnamed: 0</th>\n",
       "      <th>x</th>\n",
       "      <th>y</th>\n",
       "      <th>z</th>\n",
       "    </tr>\n",
       "  </thead>\n",
       "  <tbody>\n",
       "    <tr>\n",
       "      <th>0</th>\n",
       "      <td>0</td>\n",
       "      <td>-1.750080e-03</td>\n",
       "      <td>-7.325240e-03</td>\n",
       "      <td>-7.381023</td>\n",
       "    </tr>\n",
       "    <tr>\n",
       "      <th>1</th>\n",
       "      <td>1</td>\n",
       "      <td>-3.499287e-03</td>\n",
       "      <td>-1.464683e-02</td>\n",
       "      <td>-2.077100</td>\n",
       "    </tr>\n",
       "    <tr>\n",
       "      <th>2</th>\n",
       "      <td>2</td>\n",
       "      <td>-6.995087e-03</td>\n",
       "      <td>-2.927906e-02</td>\n",
       "      <td>2.545311</td>\n",
       "    </tr>\n",
       "    <tr>\n",
       "      <th>3</th>\n",
       "      <td>3</td>\n",
       "      <td>-1.048391e-02</td>\n",
       "      <td>-4.388210e-02</td>\n",
       "      <td>-1.957730</td>\n",
       "    </tr>\n",
       "    <tr>\n",
       "      <th>4</th>\n",
       "      <td>4</td>\n",
       "      <td>-1.396229e-02</td>\n",
       "      <td>-5.844140e-02</td>\n",
       "      <td>0.390971</td>\n",
       "    </tr>\n",
       "    <tr>\n",
       "      <th>...</th>\n",
       "      <td>...</td>\n",
       "      <td>...</td>\n",
       "      <td>...</td>\n",
       "      <td>...</td>\n",
       "    </tr>\n",
       "    <tr>\n",
       "      <th>1999995</th>\n",
       "      <td>1999995</td>\n",
       "      <td>-3.765876e-13</td>\n",
       "      <td>-9.503509e-14</td>\n",
       "      <td>9.444445</td>\n",
       "    </tr>\n",
       "    <tr>\n",
       "      <th>1999996</th>\n",
       "      <td>1999996</td>\n",
       "      <td>1.129763e-12</td>\n",
       "      <td>1.891820e-13</td>\n",
       "      <td>12.721222</td>\n",
       "    </tr>\n",
       "    <tr>\n",
       "      <th>1999997</th>\n",
       "      <td>1999997</td>\n",
       "      <td>3.765876e-13</td>\n",
       "      <td>1.891820e-13</td>\n",
       "      <td>-9.539571</td>\n",
       "    </tr>\n",
       "    <tr>\n",
       "      <th>1999998</th>\n",
       "      <td>1999998</td>\n",
       "      <td>2.202682e-13</td>\n",
       "      <td>6.572520e-14</td>\n",
       "      <td>-19.803844</td>\n",
       "    </tr>\n",
       "    <tr>\n",
       "      <th>1999999</th>\n",
       "      <td>1999999</td>\n",
       "      <td>4.418688e-13</td>\n",
       "      <td>-5.891584e-14</td>\n",
       "      <td>-16.154872</td>\n",
       "    </tr>\n",
       "  </tbody>\n",
       "</table>\n",
       "<p>2000000 rows × 4 columns</p>\n",
       "</div>"
      ],
      "text/plain": [
       "         Unnamed: 0             x             y          z\n",
       "0                 0 -1.750080e-03 -7.325240e-03  -7.381023\n",
       "1                 1 -3.499287e-03 -1.464683e-02  -2.077100\n",
       "2                 2 -6.995087e-03 -2.927906e-02   2.545311\n",
       "3                 3 -1.048391e-02 -4.388210e-02  -1.957730\n",
       "4                 4 -1.396229e-02 -5.844140e-02   0.390971\n",
       "...             ...           ...           ...        ...\n",
       "1999995     1999995 -3.765876e-13 -9.503509e-14   9.444445\n",
       "1999996     1999996  1.129763e-12  1.891820e-13  12.721222\n",
       "1999997     1999997  3.765876e-13  1.891820e-13  -9.539571\n",
       "1999998     1999998  2.202682e-13  6.572520e-14 -19.803844\n",
       "1999999     1999999  4.418688e-13 -5.891584e-14 -16.154872\n",
       "\n",
       "[2000000 rows x 4 columns]"
      ]
     },
     "execution_count": 3,
     "metadata": {},
     "output_type": "execute_result"
    }
   ],
   "source": [
    "data"
   ]
  },
  {
   "cell_type": "code",
   "execution_count": 4,
   "id": "1fe26d83",
   "metadata": {},
   "outputs": [
    {
     "data": {
      "text/plain": [
       "True"
      ]
     },
     "execution_count": 4,
     "metadata": {},
     "output_type": "execute_result"
    }
   ],
   "source": [
    "2000000 ==2000000\n"
   ]
  },
  {
   "cell_type": "code",
   "execution_count": 5,
   "id": "4fb00678",
   "metadata": {},
   "outputs": [
    {
     "data": {
      "text/html": [
       "<div>\n",
       "<style scoped>\n",
       "    .dataframe tbody tr th:only-of-type {\n",
       "        vertical-align: middle;\n",
       "    }\n",
       "\n",
       "    .dataframe tbody tr th {\n",
       "        vertical-align: top;\n",
       "    }\n",
       "\n",
       "    .dataframe thead th {\n",
       "        text-align: right;\n",
       "    }\n",
       "</style>\n",
       "<table border=\"1\" class=\"dataframe\">\n",
       "  <thead>\n",
       "    <tr style=\"text-align: right;\">\n",
       "      <th></th>\n",
       "      <th>x</th>\n",
       "      <th>y</th>\n",
       "      <th>z</th>\n",
       "    </tr>\n",
       "  </thead>\n",
       "  <tbody>\n",
       "    <tr>\n",
       "      <th>0</th>\n",
       "      <td>-1.750080e-03</td>\n",
       "      <td>-7.325240e-03</td>\n",
       "      <td>-7.381023</td>\n",
       "    </tr>\n",
       "    <tr>\n",
       "      <th>1</th>\n",
       "      <td>-3.499287e-03</td>\n",
       "      <td>-1.464683e-02</td>\n",
       "      <td>-2.077100</td>\n",
       "    </tr>\n",
       "    <tr>\n",
       "      <th>2</th>\n",
       "      <td>-6.995087e-03</td>\n",
       "      <td>-2.927906e-02</td>\n",
       "      <td>2.545311</td>\n",
       "    </tr>\n",
       "    <tr>\n",
       "      <th>3</th>\n",
       "      <td>-1.048391e-02</td>\n",
       "      <td>-4.388210e-02</td>\n",
       "      <td>-1.957730</td>\n",
       "    </tr>\n",
       "    <tr>\n",
       "      <th>4</th>\n",
       "      <td>-1.396229e-02</td>\n",
       "      <td>-5.844140e-02</td>\n",
       "      <td>0.390971</td>\n",
       "    </tr>\n",
       "    <tr>\n",
       "      <th>...</th>\n",
       "      <td>...</td>\n",
       "      <td>...</td>\n",
       "      <td>...</td>\n",
       "    </tr>\n",
       "    <tr>\n",
       "      <th>1999995</th>\n",
       "      <td>-3.765876e-13</td>\n",
       "      <td>-9.503509e-14</td>\n",
       "      <td>9.444445</td>\n",
       "    </tr>\n",
       "    <tr>\n",
       "      <th>1999996</th>\n",
       "      <td>1.129763e-12</td>\n",
       "      <td>1.891820e-13</td>\n",
       "      <td>12.721222</td>\n",
       "    </tr>\n",
       "    <tr>\n",
       "      <th>1999997</th>\n",
       "      <td>3.765876e-13</td>\n",
       "      <td>1.891820e-13</td>\n",
       "      <td>-9.539571</td>\n",
       "    </tr>\n",
       "    <tr>\n",
       "      <th>1999998</th>\n",
       "      <td>2.202682e-13</td>\n",
       "      <td>6.572520e-14</td>\n",
       "      <td>-19.803844</td>\n",
       "    </tr>\n",
       "    <tr>\n",
       "      <th>1999999</th>\n",
       "      <td>4.418688e-13</td>\n",
       "      <td>-5.891584e-14</td>\n",
       "      <td>-16.154872</td>\n",
       "    </tr>\n",
       "  </tbody>\n",
       "</table>\n",
       "<p>2000000 rows × 3 columns</p>\n",
       "</div>"
      ],
      "text/plain": [
       "                    x             y          z\n",
       "0       -1.750080e-03 -7.325240e-03  -7.381023\n",
       "1       -3.499287e-03 -1.464683e-02  -2.077100\n",
       "2       -6.995087e-03 -2.927906e-02   2.545311\n",
       "3       -1.048391e-02 -4.388210e-02  -1.957730\n",
       "4       -1.396229e-02 -5.844140e-02   0.390971\n",
       "...               ...           ...        ...\n",
       "1999995 -3.765876e-13 -9.503509e-14   9.444445\n",
       "1999996  1.129763e-12  1.891820e-13  12.721222\n",
       "1999997  3.765876e-13  1.891820e-13  -9.539571\n",
       "1999998  2.202682e-13  6.572520e-14 -19.803844\n",
       "1999999  4.418688e-13 -5.891584e-14 -16.154872\n",
       "\n",
       "[2000000 rows x 3 columns]"
      ]
     },
     "execution_count": 5,
     "metadata": {},
     "output_type": "execute_result"
    }
   ],
   "source": [
    "\n",
    "X=data.drop(columns='Unnamed: 0')\n",
    "X"
   ]
  },
  {
   "cell_type": "code",
   "execution_count": 21,
   "id": "e5f316e2",
   "metadata": {},
   "outputs": [
    {
     "name": "stdout",
     "output_type": "stream",
     "text": [
      "The maximum repeating element in the list is: 5\n"
     ]
    },
    {
     "data": {
      "text/plain": [
       "list"
      ]
     },
     "execution_count": 21,
     "metadata": {},
     "output_type": "execute_result"
    }
   ],
   "source": [
    "from collections import Counter\n",
    "\n",
    "def max_repeating_element(lst):\n",
    "    freq_count = Counter(lst)\n",
    "    max_freq = max(freq_count.values())\n",
    "    max_freq_elements = [k for k, v in freq_count.items() if v == max_freq]\n",
    "    return max(max_freq_elements)\n",
    "lst = [1, 2, 3, 4,55,5,5,5,5,5,5,5,4, 4, 4, 5, 5]\n",
    "max_repeating = max_repeating_element(lst)\n",
    "print(\"The maximum repeating element in the list is:\", max_repeating)\n",
    "type(lst)"
   ]
  },
  {
   "cell_type": "code",
   "execution_count": 20,
   "id": "9b2389cf",
   "metadata": {},
   "outputs": [],
   "source": [
    "#for i in range(0,len(data['x']),200):\n",
    "#    print(i)\n",
    "#final_list"
   ]
  },
  {
   "cell_type": "code",
   "execution_count": 9,
   "id": "30a1f3c5",
   "metadata": {},
   "outputs": [],
   "source": [
    "final_list=[]\n",
    "for i in range(0,len(data['x']),200):\n",
    "    y_pred=mango_pickle.predict(X[i:i+200])\n",
    "    y_pred_for_list=list(y_pred)\n",
    "    final_list.append(max_repeating_element(y_pred_for_list))\n",
    "    #print(type(y_pred))\n",
    "    #print(list(y_pred))\n"
   ]
  },
  {
   "cell_type": "code",
   "execution_count": 10,
   "id": "c136c40a",
   "metadata": {},
   "outputs": [
    {
     "data": {
      "text/plain": [
       "10000"
      ]
     },
     "execution_count": 10,
     "metadata": {},
     "output_type": "execute_result"
    }
   ],
   "source": [
    "len(final_list)"
   ]
  },
  {
   "cell_type": "code",
   "execution_count": 19,
   "id": "143f36cb",
   "metadata": {},
   "outputs": [
    {
     "data": {
      "text/plain": [
       "['oscillation',\n",
       " 'circular',\n",
       " 'hop',\n",
       " 'hop',\n",
       " 'spiral',\n",
       " 'hop',\n",
       " 'oscillation',\n",
       " 'oscillation',\n",
       " 'circular',\n",
       " 'circular']"
      ]
     },
     "execution_count": 19,
     "metadata": {},
     "output_type": "execute_result"
    }
   ],
   "source": [
    "final_list[:10]"
   ]
  },
  {
   "cell_type": "code",
   "execution_count": 13,
   "id": "7685bf45",
   "metadata": {},
   "outputs": [],
   "source": [
    "#y_pred.shape"
   ]
  },
  {
   "cell_type": "code",
   "execution_count": 27,
   "id": "79924ea6",
   "metadata": {},
   "outputs": [
    {
     "data": {
      "text/plain": [
       "True"
      ]
     },
     "execution_count": 27,
     "metadata": {},
     "output_type": "execute_result"
    }
   ],
   "source": [
    "#y_pred.tofile"
   ]
  },
  {
   "cell_type": "code",
   "execution_count": 14,
   "id": "3272dfe4",
   "metadata": {},
   "outputs": [],
   "source": [
    "test_submit=pd.DataFrame(columns=['Outputs'])\n",
    "test_submit['Outputs']=final_list\n",
    "\n"
   ]
  },
  {
   "cell_type": "code",
   "execution_count": 15,
   "id": "0ffacc5f",
   "metadata": {},
   "outputs": [
    {
     "data": {
      "text/plain": [
       "(10000, 1)"
      ]
     },
     "execution_count": 15,
     "metadata": {},
     "output_type": "execute_result"
    }
   ],
   "source": [
    "test_submit.shape"
   ]
  },
  {
   "cell_type": "code",
   "execution_count": 16,
   "id": "dec46fe3",
   "metadata": {},
   "outputs": [
    {
     "data": {
      "text/html": [
       "<div>\n",
       "<style scoped>\n",
       "    .dataframe tbody tr th:only-of-type {\n",
       "        vertical-align: middle;\n",
       "    }\n",
       "\n",
       "    .dataframe tbody tr th {\n",
       "        vertical-align: top;\n",
       "    }\n",
       "\n",
       "    .dataframe thead th {\n",
       "        text-align: right;\n",
       "    }\n",
       "</style>\n",
       "<table border=\"1\" class=\"dataframe\">\n",
       "  <thead>\n",
       "    <tr style=\"text-align: right;\">\n",
       "      <th></th>\n",
       "      <th>Outputs</th>\n",
       "    </tr>\n",
       "  </thead>\n",
       "  <tbody>\n",
       "    <tr>\n",
       "      <th>0</th>\n",
       "      <td>oscillation</td>\n",
       "    </tr>\n",
       "    <tr>\n",
       "      <th>1</th>\n",
       "      <td>circular</td>\n",
       "    </tr>\n",
       "    <tr>\n",
       "      <th>2</th>\n",
       "      <td>hop</td>\n",
       "    </tr>\n",
       "    <tr>\n",
       "      <th>3</th>\n",
       "      <td>hop</td>\n",
       "    </tr>\n",
       "    <tr>\n",
       "      <th>4</th>\n",
       "      <td>spiral</td>\n",
       "    </tr>\n",
       "    <tr>\n",
       "      <th>...</th>\n",
       "      <td>...</td>\n",
       "    </tr>\n",
       "    <tr>\n",
       "      <th>9995</th>\n",
       "      <td>hop</td>\n",
       "    </tr>\n",
       "    <tr>\n",
       "      <th>9996</th>\n",
       "      <td>spiral</td>\n",
       "    </tr>\n",
       "    <tr>\n",
       "      <th>9997</th>\n",
       "      <td>hop</td>\n",
       "    </tr>\n",
       "    <tr>\n",
       "      <th>9998</th>\n",
       "      <td>hop</td>\n",
       "    </tr>\n",
       "    <tr>\n",
       "      <th>9999</th>\n",
       "      <td>hop</td>\n",
       "    </tr>\n",
       "  </tbody>\n",
       "</table>\n",
       "<p>10000 rows × 1 columns</p>\n",
       "</div>"
      ],
      "text/plain": [
       "          Outputs\n",
       "0     oscillation\n",
       "1        circular\n",
       "2             hop\n",
       "3             hop\n",
       "4          spiral\n",
       "...           ...\n",
       "9995          hop\n",
       "9996       spiral\n",
       "9997          hop\n",
       "9998          hop\n",
       "9999          hop\n",
       "\n",
       "[10000 rows x 1 columns]"
      ]
     },
     "execution_count": 16,
     "metadata": {},
     "output_type": "execute_result"
    }
   ],
   "source": [
    "test_submit"
   ]
  },
  {
   "cell_type": "code",
   "execution_count": 17,
   "id": "6e1dbd98",
   "metadata": {},
   "outputs": [],
   "source": [
    "test_submit.to_csv('output_sathvik_tummala.csv')"
   ]
  },
  {
   "cell_type": "code",
   "execution_count": 18,
   "id": "bbcffd3d",
   "metadata": {},
   "outputs": [
    {
     "data": {
      "text/html": [
       "<div>\n",
       "<style scoped>\n",
       "    .dataframe tbody tr th:only-of-type {\n",
       "        vertical-align: middle;\n",
       "    }\n",
       "\n",
       "    .dataframe tbody tr th {\n",
       "        vertical-align: top;\n",
       "    }\n",
       "\n",
       "    .dataframe thead th {\n",
       "        text-align: right;\n",
       "    }\n",
       "</style>\n",
       "<table border=\"1\" class=\"dataframe\">\n",
       "  <thead>\n",
       "    <tr style=\"text-align: right;\">\n",
       "      <th></th>\n",
       "      <th>Outputs</th>\n",
       "    </tr>\n",
       "  </thead>\n",
       "  <tbody>\n",
       "    <tr>\n",
       "      <th>9995</th>\n",
       "      <td>hop</td>\n",
       "    </tr>\n",
       "    <tr>\n",
       "      <th>9996</th>\n",
       "      <td>spiral</td>\n",
       "    </tr>\n",
       "    <tr>\n",
       "      <th>9997</th>\n",
       "      <td>hop</td>\n",
       "    </tr>\n",
       "    <tr>\n",
       "      <th>9998</th>\n",
       "      <td>hop</td>\n",
       "    </tr>\n",
       "    <tr>\n",
       "      <th>9999</th>\n",
       "      <td>hop</td>\n",
       "    </tr>\n",
       "  </tbody>\n",
       "</table>\n",
       "</div>"
      ],
      "text/plain": [
       "     Outputs\n",
       "9995     hop\n",
       "9996  spiral\n",
       "9997     hop\n",
       "9998     hop\n",
       "9999     hop"
      ]
     },
     "execution_count": 18,
     "metadata": {},
     "output_type": "execute_result"
    }
   ],
   "source": [
    "test_submit.tail()"
   ]
  },
  {
   "cell_type": "code",
   "execution_count": null,
   "id": "a38ee865",
   "metadata": {},
   "outputs": [],
   "source": []
  }
 ],
 "metadata": {
  "kernelspec": {
   "display_name": "Python 3 (ipykernel)",
   "language": "python",
   "name": "python3"
  },
  "language_info": {
   "codemirror_mode": {
    "name": "ipython",
    "version": 3
   },
   "file_extension": ".py",
   "mimetype": "text/x-python",
   "name": "python",
   "nbconvert_exporter": "python",
   "pygments_lexer": "ipython3",
   "version": "3.10.5"
  }
 },
 "nbformat": 4,
 "nbformat_minor": 5
}
