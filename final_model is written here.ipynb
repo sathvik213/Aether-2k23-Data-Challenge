{
 "cells": [
  {
   "cell_type": "code",
   "execution_count": 18,
   "id": "9a9da52a",
   "metadata": {},
   "outputs": [],
   "source": [
    "import pandas as pd\n"
   ]
  },
  {
   "cell_type": "code",
   "execution_count": 19,
   "id": "ca3f922b",
   "metadata": {},
   "outputs": [
    {
     "data": {
      "text/html": [
       "<div>\n",
       "<style scoped>\n",
       "    .dataframe tbody tr th:only-of-type {\n",
       "        vertical-align: middle;\n",
       "    }\n",
       "\n",
       "    .dataframe tbody tr th {\n",
       "        vertical-align: top;\n",
       "    }\n",
       "\n",
       "    .dataframe thead th {\n",
       "        text-align: right;\n",
       "    }\n",
       "</style>\n",
       "<table border=\"1\" class=\"dataframe\">\n",
       "  <thead>\n",
       "    <tr style=\"text-align: right;\">\n",
       "      <th></th>\n",
       "      <th>x</th>\n",
       "      <th>y</th>\n",
       "      <th>z</th>\n",
       "      <th>Outputs</th>\n",
       "    </tr>\n",
       "  </thead>\n",
       "  <tbody>\n",
       "    <tr>\n",
       "      <th>0</th>\n",
       "      <td>-4.299387e-02</td>\n",
       "      <td>-1.357931e-03</td>\n",
       "      <td>-64.222052</td>\n",
       "      <td>spiral</td>\n",
       "    </tr>\n",
       "    <tr>\n",
       "      <th>1</th>\n",
       "      <td>-6.445865e-02</td>\n",
       "      <td>-2.715185e-03</td>\n",
       "      <td>-5.475421</td>\n",
       "      <td>spiral</td>\n",
       "    </tr>\n",
       "    <tr>\n",
       "      <th>2</th>\n",
       "      <td>-8.583775e-02</td>\n",
       "      <td>-5.427663e-03</td>\n",
       "      <td>149.879390</td>\n",
       "      <td>spiral</td>\n",
       "    </tr>\n",
       "    <tr>\n",
       "      <th>3</th>\n",
       "      <td>-8.562362e-02</td>\n",
       "      <td>-8.134731e-03</td>\n",
       "      <td>79.174509</td>\n",
       "      <td>spiral</td>\n",
       "    </tr>\n",
       "    <tr>\n",
       "      <th>4</th>\n",
       "      <td>-8.532414e-02</td>\n",
       "      <td>-1.083369e-02</td>\n",
       "      <td>-80.707106</td>\n",
       "      <td>spiral</td>\n",
       "    </tr>\n",
       "    <tr>\n",
       "      <th>...</th>\n",
       "      <td>...</td>\n",
       "      <td>...</td>\n",
       "      <td>...</td>\n",
       "      <td>...</td>\n",
       "    </tr>\n",
       "    <tr>\n",
       "      <th>39997</th>\n",
       "      <td>1.880000e-13</td>\n",
       "      <td>0.000000e+00</td>\n",
       "      <td>-7.392644</td>\n",
       "      <td>hop</td>\n",
       "    </tr>\n",
       "    <tr>\n",
       "      <th>39998</th>\n",
       "      <td>-5.610000e-13</td>\n",
       "      <td>-9.240000e-14</td>\n",
       "      <td>15.477061</td>\n",
       "      <td>hop</td>\n",
       "    </tr>\n",
       "    <tr>\n",
       "      <th>39999</th>\n",
       "      <td>-1.880000e-13</td>\n",
       "      <td>0.000000e+00</td>\n",
       "      <td>16.504111</td>\n",
       "      <td>hop</td>\n",
       "    </tr>\n",
       "    <tr>\n",
       "      <th>40000</th>\n",
       "      <td>0.000000e+00</td>\n",
       "      <td>-9.240000e-14</td>\n",
       "      <td>6.696524</td>\n",
       "      <td>hop</td>\n",
       "    </tr>\n",
       "    <tr>\n",
       "      <th>40001</th>\n",
       "      <td>3.770000e-13</td>\n",
       "      <td>-9.590000e-14</td>\n",
       "      <td>2.005488</td>\n",
       "      <td>hop</td>\n",
       "    </tr>\n",
       "  </tbody>\n",
       "</table>\n",
       "<p>40002 rows × 4 columns</p>\n",
       "</div>"
      ],
      "text/plain": [
       "                  x             y           z Outputs\n",
       "0     -4.299387e-02 -1.357931e-03  -64.222052  spiral\n",
       "1     -6.445865e-02 -2.715185e-03   -5.475421  spiral\n",
       "2     -8.583775e-02 -5.427663e-03  149.879390  spiral\n",
       "3     -8.562362e-02 -8.134731e-03   79.174509  spiral\n",
       "4     -8.532414e-02 -1.083369e-02  -80.707106  spiral\n",
       "...             ...           ...         ...     ...\n",
       "39997  1.880000e-13  0.000000e+00   -7.392644     hop\n",
       "39998 -5.610000e-13 -9.240000e-14   15.477061     hop\n",
       "39999 -1.880000e-13  0.000000e+00   16.504111     hop\n",
       "40000  0.000000e+00 -9.240000e-14    6.696524     hop\n",
       "40001  3.770000e-13 -9.590000e-14    2.005488     hop\n",
       "\n",
       "[40002 rows x 4 columns]"
      ]
     },
     "execution_count": 19,
     "metadata": {},
     "output_type": "execute_result"
    }
   ],
   "source": [
    "data=pd.read_csv('sample.csv')#30001 for start hop data\n",
    "data"
   ]
  },
  {
   "cell_type": "code",
   "execution_count": 20,
   "id": "312872e8",
   "metadata": {},
   "outputs": [
    {
     "data": {
      "text/html": [
       "<div>\n",
       "<style scoped>\n",
       "    .dataframe tbody tr th:only-of-type {\n",
       "        vertical-align: middle;\n",
       "    }\n",
       "\n",
       "    .dataframe tbody tr th {\n",
       "        vertical-align: top;\n",
       "    }\n",
       "\n",
       "    .dataframe thead th {\n",
       "        text-align: right;\n",
       "    }\n",
       "</style>\n",
       "<table border=\"1\" class=\"dataframe\">\n",
       "  <thead>\n",
       "    <tr style=\"text-align: right;\">\n",
       "      <th></th>\n",
       "      <th>Outputs</th>\n",
       "    </tr>\n",
       "  </thead>\n",
       "  <tbody>\n",
       "    <tr>\n",
       "      <th>0</th>\n",
       "      <td>spiral</td>\n",
       "    </tr>\n",
       "    <tr>\n",
       "      <th>1</th>\n",
       "      <td>spiral</td>\n",
       "    </tr>\n",
       "    <tr>\n",
       "      <th>2</th>\n",
       "      <td>spiral</td>\n",
       "    </tr>\n",
       "    <tr>\n",
       "      <th>3</th>\n",
       "      <td>spiral</td>\n",
       "    </tr>\n",
       "    <tr>\n",
       "      <th>4</th>\n",
       "      <td>spiral</td>\n",
       "    </tr>\n",
       "    <tr>\n",
       "      <th>...</th>\n",
       "      <td>...</td>\n",
       "    </tr>\n",
       "    <tr>\n",
       "      <th>39997</th>\n",
       "      <td>hop</td>\n",
       "    </tr>\n",
       "    <tr>\n",
       "      <th>39998</th>\n",
       "      <td>hop</td>\n",
       "    </tr>\n",
       "    <tr>\n",
       "      <th>39999</th>\n",
       "      <td>hop</td>\n",
       "    </tr>\n",
       "    <tr>\n",
       "      <th>40000</th>\n",
       "      <td>hop</td>\n",
       "    </tr>\n",
       "    <tr>\n",
       "      <th>40001</th>\n",
       "      <td>hop</td>\n",
       "    </tr>\n",
       "  </tbody>\n",
       "</table>\n",
       "<p>40002 rows × 1 columns</p>\n",
       "</div>"
      ],
      "text/plain": [
       "      Outputs\n",
       "0      spiral\n",
       "1      spiral\n",
       "2      spiral\n",
       "3      spiral\n",
       "4      spiral\n",
       "...       ...\n",
       "39997     hop\n",
       "39998     hop\n",
       "39999     hop\n",
       "40000     hop\n",
       "40001     hop\n",
       "\n",
       "[40002 rows x 1 columns]"
      ]
     },
     "execution_count": 20,
     "metadata": {},
     "output_type": "execute_result"
    }
   ],
   "source": [
    "import pickle \n",
    "from sklearn.model_selection import train_test_split\n",
    "X=data.drop(columns=['Outputs'])\n",
    "y=data.drop(columns=['x','y','z'])\n",
    "y"
   ]
  },
  {
   "cell_type": "code",
   "execution_count": 21,
   "id": "1821bbab",
   "metadata": {},
   "outputs": [],
   "source": [
    "X_train,X_test,y_train,y_test=train_test_split(X,y,test_size=0.2,random_state=22)\n"
   ]
  },
  {
   "cell_type": "code",
   "execution_count": 22,
   "id": "55642574",
   "metadata": {},
   "outputs": [
    {
     "data": {
      "text/plain": [
       "((32001, 3), (32001, 1), (8001, 3), (8001, 1))"
      ]
     },
     "execution_count": 22,
     "metadata": {},
     "output_type": "execute_result"
    }
   ],
   "source": [
    "X_train.shape,y_train.shape,X_test.shape,y_test.shape"
   ]
  },
  {
   "cell_type": "code",
   "execution_count": 23,
   "id": "5a3d3a7d",
   "metadata": {},
   "outputs": [
    {
     "data": {
      "text/html": [
       "<div>\n",
       "<style scoped>\n",
       "    .dataframe tbody tr th:only-of-type {\n",
       "        vertical-align: middle;\n",
       "    }\n",
       "\n",
       "    .dataframe tbody tr th {\n",
       "        vertical-align: top;\n",
       "    }\n",
       "\n",
       "    .dataframe thead th {\n",
       "        text-align: right;\n",
       "    }\n",
       "</style>\n",
       "<table border=\"1\" class=\"dataframe\">\n",
       "  <thead>\n",
       "    <tr style=\"text-align: right;\">\n",
       "      <th></th>\n",
       "      <th>Outputs</th>\n",
       "    </tr>\n",
       "  </thead>\n",
       "  <tbody>\n",
       "    <tr>\n",
       "      <th>15724</th>\n",
       "      <td>oscillation</td>\n",
       "    </tr>\n",
       "    <tr>\n",
       "      <th>4785</th>\n",
       "      <td>spiral</td>\n",
       "    </tr>\n",
       "    <tr>\n",
       "      <th>4230</th>\n",
       "      <td>spiral</td>\n",
       "    </tr>\n",
       "    <tr>\n",
       "      <th>17730</th>\n",
       "      <td>oscillation</td>\n",
       "    </tr>\n",
       "    <tr>\n",
       "      <th>8684</th>\n",
       "      <td>spiral</td>\n",
       "    </tr>\n",
       "    <tr>\n",
       "      <th>...</th>\n",
       "      <td>...</td>\n",
       "    </tr>\n",
       "    <tr>\n",
       "      <th>20971</th>\n",
       "      <td>circular</td>\n",
       "    </tr>\n",
       "    <tr>\n",
       "      <th>23030</th>\n",
       "      <td>circular</td>\n",
       "    </tr>\n",
       "    <tr>\n",
       "      <th>24932</th>\n",
       "      <td>circular</td>\n",
       "    </tr>\n",
       "    <tr>\n",
       "      <th>31680</th>\n",
       "      <td>hop</td>\n",
       "    </tr>\n",
       "    <tr>\n",
       "      <th>29484</th>\n",
       "      <td>circular</td>\n",
       "    </tr>\n",
       "  </tbody>\n",
       "</table>\n",
       "<p>32001 rows × 1 columns</p>\n",
       "</div>"
      ],
      "text/plain": [
       "           Outputs\n",
       "15724  oscillation\n",
       "4785        spiral\n",
       "4230        spiral\n",
       "17730  oscillation\n",
       "8684        spiral\n",
       "...            ...\n",
       "20971     circular\n",
       "23030     circular\n",
       "24932     circular\n",
       "31680          hop\n",
       "29484     circular\n",
       "\n",
       "[32001 rows x 1 columns]"
      ]
     },
     "metadata": {},
     "output_type": "display_data"
    }
   ],
   "source": [
    "display(y_train)"
   ]
  },
  {
   "cell_type": "markdown",
   "id": "44fe1426",
   "metadata": {},
   "source": [
    "from sklearn.tree import DecisionTreeClassifier\n",
    "model=DecisionTreeClassifier(max_depth=100)\n",
    "model.fit(X_train,y_train)\n",
    "\n",
    "from sklearn.metrics import classification_report\n",
    "y_pred=model.predict(X_test)\n",
    "y_pred\n",
    "print(classification_report(y_pred,y_test))"
   ]
  },
  {
   "cell_type": "code",
   "execution_count": 24,
   "id": "d1e66340",
   "metadata": {},
   "outputs": [
    {
     "name": "stderr",
     "output_type": "stream",
     "text": [
      "C:\\Users\\sathvik\\AppData\\Local\\Temp\\ipykernel_20296\\671389235.py:3: DataConversionWarning: A column-vector y was passed when a 1d array was expected. Please change the shape of y to (n_samples,), for example using ravel().\n",
      "  bag.fit(X_train,y_train)\n"
     ]
    },
    {
     "name": "stdout",
     "output_type": "stream",
     "text": [
      "              precision    recall  f1-score   support\n",
      "\n",
      "    circular       0.97      0.89      0.93      2221\n",
      "         hop       1.00      1.00      1.00      1967\n",
      " oscillation       0.97      1.00      0.98      1954\n",
      "      spiral       0.90      0.97      0.94      1859\n",
      "\n",
      "    accuracy                           0.96      8001\n",
      "   macro avg       0.96      0.96      0.96      8001\n",
      "weighted avg       0.96      0.96      0.96      8001\n",
      "\n"
     ]
    }
   ],
   "source": [
    "from sklearn.ensemble import RandomForestClassifier\n",
    "bag=RandomForestClassifier()\n",
    "bag.fit(X_train,y_train)\n",
    "from sklearn.metrics import classification_report\n",
    "y_pred=bag.predict(X_test)\n",
    "print(classification_report(y_pred,y_test))"
   ]
  },
  {
   "cell_type": "code",
   "execution_count": 1,
   "id": "acfe73e3",
   "metadata": {},
   "outputs": [],
   "source": [
    "#testing=pd.read_csv('spiral_accel_train.csv')\n",
    "#testing"
   ]
  },
  {
   "cell_type": "code",
   "execution_count": 2,
   "id": "1867f575",
   "metadata": {
    "scrolled": true
   },
   "outputs": [],
   "source": [
    "\n",
    "#X=testing.drop(columns=['Outputs'])\n",
    "#y=testing.drop(columns=['x','y','z'])\n",
    "\n",
    "#osc_X_train,osc_X_test,osc_y_train,osc_y_test=train_test_split(X,y,test_size=0.4,random_state=22)\n",
    "#test_for_osc_pred=bag.predict(osc_X_test)\n",
    "#print(classification_report(test_for_osc_pred,osc_y_test))"
   ]
  },
  {
   "cell_type": "code",
   "execution_count": 30,
   "id": "65247d5f",
   "metadata": {},
   "outputs": [],
   "source": [
    "final_bag=pickle.dumps(bag)"
   ]
  },
  {
   "cell_type": "code",
   "execution_count": 31,
   "id": "faae01f5",
   "metadata": {},
   "outputs": [
    {
     "name": "stdout",
     "output_type": "stream",
     "text": [
      "              precision    recall  f1-score   support\n",
      "\n",
      "    circular       0.97      0.88      0.92      8878\n",
      "         hop       1.00      1.00      1.00      8027\n",
      " oscillation       0.97      1.00      0.98      7723\n",
      "      spiral       0.89      0.97      0.93      7372\n",
      "\n",
      "    accuracy                           0.96     32000\n",
      "   macro avg       0.96      0.96      0.96     32000\n",
      "weighted avg       0.96      0.96      0.96     32000\n",
      "\n"
     ]
    }
   ],
   "source": [
    "final_load=pd.read_csv('sample_test.csv')\n",
    "mango_pickle=pickle.loads(final_bag)\n",
    "X=final_load.drop(columns=['Outputs'])\n",
    "y=final_load.drop(columns=['x','y','z'])\n",
    "\n",
    "pickle_X_train,pickle_X_test,pickle_y_train,pickle_y_test=train_test_split(X,y,test_size=0.8,random_state=22)\n",
    "pickle_y_pred=bag.predict(pickle_X_test)\n",
    "print(classification_report(pickle_y_pred,pickle_y_test))"
   ]
  },
  {
   "cell_type": "code",
   "execution_count": 32,
   "id": "cd3ab100",
   "metadata": {},
   "outputs": [],
   "source": [
    "pickle.dump(bag, open('mango.pkl', 'wb'))\n"
   ]
  },
  {
   "cell_type": "code",
   "execution_count": null,
   "id": "ce425e22",
   "metadata": {},
   "outputs": [],
   "source": []
  }
 ],
 "metadata": {
  "kernelspec": {
   "display_name": "Python 3 (ipykernel)",
   "language": "python",
   "name": "python3"
  },
  "language_info": {
   "codemirror_mode": {
    "name": "ipython",
    "version": 3
   },
   "file_extension": ".py",
   "mimetype": "text/x-python",
   "name": "python",
   "nbconvert_exporter": "python",
   "pygments_lexer": "ipython3",
   "version": "3.10.5"
  }
 },
 "nbformat": 4,
 "nbformat_minor": 5
}
